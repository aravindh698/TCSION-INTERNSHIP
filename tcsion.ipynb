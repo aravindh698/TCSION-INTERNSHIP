{
  "nbformat": 4,
  "nbformat_minor": 0,
  "metadata": {
    "colab": {
      "name": "tcsion.ipynb",
      "provenance": [],
      "collapsed_sections": [],
      "authorship_tag": "ABX9TyOCLf8UMYcunVwC7ci9NVAO",
      "include_colab_link": true
    },
    "kernelspec": {
      "name": "python3",
      "display_name": "Python 3"
    },
    "language_info": {
      "name": "python"
    }
  },
  "cells": [
    {
      "cell_type": "markdown",
      "metadata": {
        "id": "view-in-github",
        "colab_type": "text"
      },
      "source": [
        "<a href=\"https://colab.research.google.com/github/aravindh698/TCSION-INTERNSHIP/blob/main/tcsion.ipynb\" target=\"_parent\"><img src=\"https://colab.research.google.com/assets/colab-badge.svg\" alt=\"Open In Colab\"/></a>"
      ]
    },
    {
      "cell_type": "markdown",
      "metadata": {
        "id": "GcYdD7ijkoA_"
      },
      "source": [
        "HYPOTHESIS GENERATION:\n",
        "1. From Train DataSet it is seen that\n",
        "\n",
        "*   The sales is Higher at 7th month\n",
        "*   Second store shows maximal sale\n",
        "*   The year 2017 shows a maximal sale at store 2\n",
        "*   items 13,15,28,22,38,45 are soled maximally\n",
        "*   Sale is higher at weekends\n",
        "\n",
        "\n",
        "\n",
        "\n",
        "\n",
        "\n",
        "\n",
        "\n",
        "\n"
      ]
    },
    {
      "cell_type": "markdown",
      "metadata": {
        "id": "mZuOjJUID7tH"
      },
      "source": [
        "We need to import the needed packages "
      ]
    },
    {
      "cell_type": "code",
      "metadata": {
        "id": "E5rvH86o3LTY"
      },
      "source": [
        "import pandas as pd\n",
        "import matplotlib.pyplot as plt\n",
        "from datetime import datetime\n",
        "from pandas import Series\n",
        "%matplotlib inline\n",
        "import warnings\n",
        "warnings.filterwarnings(\"ignore\")\n"
      ],
      "execution_count": 103,
      "outputs": []
    },
    {
      "cell_type": "markdown",
      "metadata": {
        "id": "u7NRyStVEHSh"
      },
      "source": [
        "We now load the data sets into two different dataframes"
      ]
    },
    {
      "cell_type": "code",
      "metadata": {
        "id": "YRIFYXGw4yrz"
      },
      "source": [
        "df1=pd.read_csv('/content/train.csv')\n",
        "df2=pd.read_csv('/content/test.csv')"
      ],
      "execution_count": 104,
      "outputs": []
    },
    {
      "cell_type": "markdown",
      "metadata": {
        "id": "ZaO27m9s9pWp"
      },
      "source": [
        "**Data Cleaning**\n",
        "\n",
        "Cleaning means to\n",
        "\n",
        "1.  removing the unwanted noisy data,\n",
        "2.  removing NAN value\n",
        "\n",
        "1.   dropping unwanted columns\n",
        "2.   Checking the datatype and converting it to proper format\n",
        "\n",
        "\n",
        "\n"
      ]
    },
    {
      "cell_type": "markdown",
      "metadata": {
        "id": "Z0On40o0F4TQ"
      },
      "source": [
        "Now need to check for missing values in df1"
      ]
    },
    {
      "cell_type": "code",
      "metadata": {
        "colab": {
          "base_uri": "https://localhost:8080/"
        },
        "id": "fgLeHESiFy9c",
        "outputId": "f3bac2bc-6b61-4a14-d855-98b88de1c630"
      },
      "source": [
        "df1.isnull().sum()"
      ],
      "execution_count": 105,
      "outputs": [
        {
          "output_type": "execute_result",
          "data": {
            "text/plain": [
              "date     0\n",
              "store    0\n",
              "item     0\n",
              "sales    0\n",
              "dtype: int64"
            ]
          },
          "metadata": {
            "tags": []
          },
          "execution_count": 105
        }
      ]
    },
    {
      "cell_type": "markdown",
      "metadata": {
        "id": "uQF_Sfa6GHA0"
      },
      "source": [
        "Now need to check for missing values in df2"
      ]
    },
    {
      "cell_type": "code",
      "metadata": {
        "colab": {
          "base_uri": "https://localhost:8080/"
        },
        "id": "NMKzKzs1GBQK",
        "outputId": "12b7ecfc-74c8-4a2a-8f72-293e474fe858"
      },
      "source": [
        "df2.isnull().sum()"
      ],
      "execution_count": 106,
      "outputs": [
        {
          "output_type": "execute_result",
          "data": {
            "text/plain": [
              "id       0\n",
              "date     0\n",
              "store    0\n",
              "item     0\n",
              "dtype: int64"
            ]
          },
          "metadata": {
            "tags": []
          },
          "execution_count": 106
        }
      ]
    },
    {
      "cell_type": "markdown",
      "metadata": {
        "id": "v_li7qgwEUPq"
      },
      "source": [
        "Now we check the datatype of Dataframe df1"
      ]
    },
    {
      "cell_type": "code",
      "metadata": {
        "colab": {
          "base_uri": "https://localhost:8080/"
        },
        "id": "dInOGGgH6rvR",
        "outputId": "b90bf969-5961-4ea2-eecd-3009e7e0a878"
      },
      "source": [
        "df1.dtypes"
      ],
      "execution_count": 107,
      "outputs": [
        {
          "output_type": "execute_result",
          "data": {
            "text/plain": [
              "date     object\n",
              "store     int64\n",
              "item      int64\n",
              "sales     int64\n",
              "dtype: object"
            ]
          },
          "metadata": {
            "tags": []
          },
          "execution_count": 107
        }
      ]
    },
    {
      "cell_type": "markdown",
      "metadata": {
        "id": "OngtMreGEb3Q"
      },
      "source": [
        "Now we check the datatype of Dataframe df2"
      ]
    },
    {
      "cell_type": "code",
      "metadata": {
        "colab": {
          "base_uri": "https://localhost:8080/"
        },
        "id": "Bi-STN0uAUcU",
        "outputId": "66cb3313-815e-4bba-969c-9c9d8ffca00b"
      },
      "source": [
        "df2.dtypes"
      ],
      "execution_count": 108,
      "outputs": [
        {
          "output_type": "execute_result",
          "data": {
            "text/plain": [
              "id        int64\n",
              "date     object\n",
              "store     int64\n",
              "item      int64\n",
              "dtype: object"
            ]
          },
          "metadata": {
            "tags": []
          },
          "execution_count": 108
        }
      ]
    },
    {
      "cell_type": "markdown",
      "metadata": {
        "id": "0xJxCJ1aEnjQ"
      },
      "source": [
        "We now create a copy of original data to avoid changes we make while making featrure extraction and predictions"
      ]
    },
    {
      "cell_type": "code",
      "metadata": {
        "id": "ZuJ-iGfMCxRC"
      },
      "source": [
        "train_original=df1.copy()\n",
        "test_original=df2.copy()"
      ],
      "execution_count": 109,
      "outputs": []
    },
    {
      "cell_type": "code",
      "metadata": {
        "colab": {
          "base_uri": "https://localhost:8080/"
        },
        "id": "qsoMOddOC_in",
        "outputId": "d43f953a-3eab-44bd-dbda-e422cfb00530"
      },
      "source": [
        "df1.columns"
      ],
      "execution_count": 110,
      "outputs": [
        {
          "output_type": "execute_result",
          "data": {
            "text/plain": [
              "Index(['date', 'store', 'item', 'sales'], dtype='object')"
            ]
          },
          "metadata": {
            "tags": []
          },
          "execution_count": 110
        }
      ]
    },
    {
      "cell_type": "code",
      "metadata": {
        "colab": {
          "base_uri": "https://localhost:8080/"
        },
        "id": "X4esAN9hDD1P",
        "outputId": "7baa3579-2b9f-4ded-b7fd-c4b69721f23d"
      },
      "source": [
        "df2.columns"
      ],
      "execution_count": 111,
      "outputs": [
        {
          "output_type": "execute_result",
          "data": {
            "text/plain": [
              "Index(['id', 'date', 'store', 'item'], dtype='object')"
            ]
          },
          "metadata": {
            "tags": []
          },
          "execution_count": 111
        }
      ]
    },
    {
      "cell_type": "markdown",
      "metadata": {
        "id": "1l6VBZX7FKow"
      },
      "source": [
        "Now we check the shape of the Dataframe to be trained "
      ]
    },
    {
      "cell_type": "code",
      "metadata": {
        "colab": {
          "base_uri": "https://localhost:8080/"
        },
        "id": "RRv-yBcRDdm1",
        "outputId": "f6c08a4c-be6d-4ed7-f729-817051e96f52"
      },
      "source": [
        "df1.shape"
      ],
      "execution_count": 112,
      "outputs": [
        {
          "output_type": "execute_result",
          "data": {
            "text/plain": [
              "(913000, 4)"
            ]
          },
          "metadata": {
            "tags": []
          },
          "execution_count": 112
        }
      ]
    },
    {
      "cell_type": "markdown",
      "metadata": {
        "id": "A-FVtTouFSqr"
      },
      "source": [
        "Now we check the shape of the Dataframe to be tested"
      ]
    },
    {
      "cell_type": "code",
      "metadata": {
        "colab": {
          "base_uri": "https://localhost:8080/"
        },
        "id": "dwh3ySPmDggh",
        "outputId": "83ce0958-ccc9-4fdb-c3bc-df5e2f800a72"
      },
      "source": [
        "df2.shape"
      ],
      "execution_count": 113,
      "outputs": [
        {
          "output_type": "execute_result",
          "data": {
            "text/plain": [
              "(45000, 4)"
            ]
          },
          "metadata": {
            "tags": []
          },
          "execution_count": 113
        }
      ]
    },
    {
      "cell_type": "markdown",
      "metadata": {
        "id": "3e064VecqHWp"
      },
      "source": [
        "From datatype we found that date is in object type which is to be converted to datetime format "
      ]
    },
    {
      "cell_type": "code",
      "metadata": {
        "id": "l2GPCEG99odA"
      },
      "source": [
        "df1['date']= pd.to_datetime(df1.date,format='%Y-%m-%d')\n",
        "df2['date']= pd.to_datetime(df2.date,format='%Y-%m-%d')\n",
        "train_original['date']= pd.to_datetime(train_original.date,format='%Y-%m-%d')\n",
        "test_original['date']= pd.to_datetime(test_original.date,format='%Y-%m-%d')"
      ],
      "execution_count": 114,
      "outputs": []
    },
    {
      "cell_type": "code",
      "metadata": {
        "id": "ASA-4X--SoZq"
      },
      "source": [
        "for i in (df1,df2,train_original,test_original):\n",
        "  i['year']=i.date.dt.year\n",
        "  i['month']=i.date.dt.month\n",
        "  i['day']=i.date.dt.day"
      ],
      "execution_count": 115,
      "outputs": []
    },
    {
      "cell_type": "code",
      "metadata": {
        "colab": {
          "base_uri": "https://localhost:8080/",
          "height": 483
        },
        "id": "Gn1hoTBxpwtp",
        "outputId": "7482280f-2789-4329-cdbb-2b1126b98b4f"
      },
      "source": [
        "df1.head(14)"
      ],
      "execution_count": 116,
      "outputs": [
        {
          "output_type": "execute_result",
          "data": {
            "text/html": [
              "<div>\n",
              "<style scoped>\n",
              "    .dataframe tbody tr th:only-of-type {\n",
              "        vertical-align: middle;\n",
              "    }\n",
              "\n",
              "    .dataframe tbody tr th {\n",
              "        vertical-align: top;\n",
              "    }\n",
              "\n",
              "    .dataframe thead th {\n",
              "        text-align: right;\n",
              "    }\n",
              "</style>\n",
              "<table border=\"1\" class=\"dataframe\">\n",
              "  <thead>\n",
              "    <tr style=\"text-align: right;\">\n",
              "      <th></th>\n",
              "      <th>date</th>\n",
              "      <th>store</th>\n",
              "      <th>item</th>\n",
              "      <th>sales</th>\n",
              "      <th>year</th>\n",
              "      <th>month</th>\n",
              "      <th>day</th>\n",
              "    </tr>\n",
              "  </thead>\n",
              "  <tbody>\n",
              "    <tr>\n",
              "      <th>0</th>\n",
              "      <td>2013-01-01</td>\n",
              "      <td>1</td>\n",
              "      <td>1</td>\n",
              "      <td>13</td>\n",
              "      <td>2013</td>\n",
              "      <td>1</td>\n",
              "      <td>1</td>\n",
              "    </tr>\n",
              "    <tr>\n",
              "      <th>1</th>\n",
              "      <td>2013-01-02</td>\n",
              "      <td>1</td>\n",
              "      <td>1</td>\n",
              "      <td>11</td>\n",
              "      <td>2013</td>\n",
              "      <td>1</td>\n",
              "      <td>2</td>\n",
              "    </tr>\n",
              "    <tr>\n",
              "      <th>2</th>\n",
              "      <td>2013-01-03</td>\n",
              "      <td>1</td>\n",
              "      <td>1</td>\n",
              "      <td>14</td>\n",
              "      <td>2013</td>\n",
              "      <td>1</td>\n",
              "      <td>3</td>\n",
              "    </tr>\n",
              "    <tr>\n",
              "      <th>3</th>\n",
              "      <td>2013-01-04</td>\n",
              "      <td>1</td>\n",
              "      <td>1</td>\n",
              "      <td>13</td>\n",
              "      <td>2013</td>\n",
              "      <td>1</td>\n",
              "      <td>4</td>\n",
              "    </tr>\n",
              "    <tr>\n",
              "      <th>4</th>\n",
              "      <td>2013-01-05</td>\n",
              "      <td>1</td>\n",
              "      <td>1</td>\n",
              "      <td>10</td>\n",
              "      <td>2013</td>\n",
              "      <td>1</td>\n",
              "      <td>5</td>\n",
              "    </tr>\n",
              "    <tr>\n",
              "      <th>5</th>\n",
              "      <td>2013-01-06</td>\n",
              "      <td>1</td>\n",
              "      <td>1</td>\n",
              "      <td>12</td>\n",
              "      <td>2013</td>\n",
              "      <td>1</td>\n",
              "      <td>6</td>\n",
              "    </tr>\n",
              "    <tr>\n",
              "      <th>6</th>\n",
              "      <td>2013-01-07</td>\n",
              "      <td>1</td>\n",
              "      <td>1</td>\n",
              "      <td>10</td>\n",
              "      <td>2013</td>\n",
              "      <td>1</td>\n",
              "      <td>7</td>\n",
              "    </tr>\n",
              "    <tr>\n",
              "      <th>7</th>\n",
              "      <td>2013-01-08</td>\n",
              "      <td>1</td>\n",
              "      <td>1</td>\n",
              "      <td>9</td>\n",
              "      <td>2013</td>\n",
              "      <td>1</td>\n",
              "      <td>8</td>\n",
              "    </tr>\n",
              "    <tr>\n",
              "      <th>8</th>\n",
              "      <td>2013-01-09</td>\n",
              "      <td>1</td>\n",
              "      <td>1</td>\n",
              "      <td>12</td>\n",
              "      <td>2013</td>\n",
              "      <td>1</td>\n",
              "      <td>9</td>\n",
              "    </tr>\n",
              "    <tr>\n",
              "      <th>9</th>\n",
              "      <td>2013-01-10</td>\n",
              "      <td>1</td>\n",
              "      <td>1</td>\n",
              "      <td>9</td>\n",
              "      <td>2013</td>\n",
              "      <td>1</td>\n",
              "      <td>10</td>\n",
              "    </tr>\n",
              "    <tr>\n",
              "      <th>10</th>\n",
              "      <td>2013-01-11</td>\n",
              "      <td>1</td>\n",
              "      <td>1</td>\n",
              "      <td>9</td>\n",
              "      <td>2013</td>\n",
              "      <td>1</td>\n",
              "      <td>11</td>\n",
              "    </tr>\n",
              "    <tr>\n",
              "      <th>11</th>\n",
              "      <td>2013-01-12</td>\n",
              "      <td>1</td>\n",
              "      <td>1</td>\n",
              "      <td>7</td>\n",
              "      <td>2013</td>\n",
              "      <td>1</td>\n",
              "      <td>12</td>\n",
              "    </tr>\n",
              "    <tr>\n",
              "      <th>12</th>\n",
              "      <td>2013-01-13</td>\n",
              "      <td>1</td>\n",
              "      <td>1</td>\n",
              "      <td>10</td>\n",
              "      <td>2013</td>\n",
              "      <td>1</td>\n",
              "      <td>13</td>\n",
              "    </tr>\n",
              "    <tr>\n",
              "      <th>13</th>\n",
              "      <td>2013-01-14</td>\n",
              "      <td>1</td>\n",
              "      <td>1</td>\n",
              "      <td>12</td>\n",
              "      <td>2013</td>\n",
              "      <td>1</td>\n",
              "      <td>14</td>\n",
              "    </tr>\n",
              "  </tbody>\n",
              "</table>\n",
              "</div>"
            ],
            "text/plain": [
              "         date  store  item  sales  year  month  day\n",
              "0  2013-01-01      1     1     13  2013      1    1\n",
              "1  2013-01-02      1     1     11  2013      1    2\n",
              "2  2013-01-03      1     1     14  2013      1    3\n",
              "3  2013-01-04      1     1     13  2013      1    4\n",
              "4  2013-01-05      1     1     10  2013      1    5\n",
              "5  2013-01-06      1     1     12  2013      1    6\n",
              "6  2013-01-07      1     1     10  2013      1    7\n",
              "7  2013-01-08      1     1      9  2013      1    8\n",
              "8  2013-01-09      1     1     12  2013      1    9\n",
              "9  2013-01-10      1     1      9  2013      1   10\n",
              "10 2013-01-11      1     1      9  2013      1   11\n",
              "11 2013-01-12      1     1      7  2013      1   12\n",
              "12 2013-01-13      1     1     10  2013      1   13\n",
              "13 2013-01-14      1     1     12  2013      1   14"
            ]
          },
          "metadata": {
            "tags": []
          },
          "execution_count": 116
        }
      ]
    },
    {
      "cell_type": "markdown",
      "metadata": {
        "id": "W8-jTQOsxWDG"
      },
      "source": [
        "Now we try to analyse the hypothesis generated \n",
        "first we try to plot sales in a year"
      ]
    },
    {
      "cell_type": "code",
      "metadata": {
        "colab": {
          "base_uri": "https://localhost:8080/",
          "height": 475
        },
        "id": "Elnz-XrNqqJm",
        "outputId": "cc2b8ec6-d6e5-4466-c8d5-af1e037d6c45"
      },
      "source": [
        "df1.index=df1['date']\n",
        "ts=df1['sales']\n",
        "plt.figure(figsize=(7,7))\n",
        "plt.plot(ts,label='Sales')\n",
        "plt.title('Sales')\n",
        "plt.xlabel('Time(yearmonth)')\n",
        "plt.ylabel('Sales')\n",
        "plt.legend(loc='best')\n"
      ],
      "execution_count": 117,
      "outputs": [
        {
          "output_type": "execute_result",
          "data": {
            "text/plain": [
              "<matplotlib.legend.Legend at 0x7f36f5aa23d0>"
            ]
          },
          "metadata": {
            "tags": []
          },
          "execution_count": 117
        },
        {
          "output_type": "display_data",
          "data": {
            "image/png": "[encoded data removed]",
            "text/plain": [
              "<Figure size 504x504 with 1 Axes>"
            ]
          },
          "metadata": {
            "tags": [],
            "needs_background": "light"
          }
        }
      ]
    },
    {
      "cell_type": "markdown",
      "metadata": {
        "id": "0KFqJqW-xlrq"
      },
      "source": [
        "To make visualation and to analyse still effectively we use bar chart here on years and sales"
      ]
    },
    {
      "cell_type": "code",
      "metadata": {
        "colab": {
          "base_uri": "https://localhost:8080/",
          "height": 312
        },
        "id": "HUhibVx1syJZ",
        "outputId": "dab9ce44-7395-4c61-93c4-22f0605f11a8"
      },
      "source": [
        "df1.groupby('year')['sales'].mean().plot.bar()"
      ],
      "execution_count": 118,
      "outputs": [
        {
          "output_type": "execute_result",
          "data": {
            "text/plain": [
              "<matplotlib.axes._subplots.AxesSubplot at 0x7f36f518d250>"
            ]
          },
          "metadata": {
            "tags": []
          },
          "execution_count": 118
        },
        {
          "output_type": "display_data",
          "data": {
            "image/png": "[encoded data removed]",
            "text/plain": [
              "<Figure size 432x288 with 1 Axes>"
            ]
          },
          "metadata": {
            "tags": [],
            "needs_background": "light"
          }
        }
      ]
    },
    {
      "cell_type": "markdown",
      "metadata": {
        "id": "98go9l8dxyZN"
      },
      "source": [
        "Now the next Hypothesis is verified"
      ]
    },
    {
      "cell_type": "code",
      "metadata": {
        "colab": {
          "base_uri": "https://localhost:8080/",
          "height": 302
        },
        "id": "mjN4EumEtDwf",
        "outputId": "118d7c85-c48b-46f1-d76c-ffe7ed444ad4"
      },
      "source": [
        "df1.groupby('month')['sales'].mean().plot.bar()"
      ],
      "execution_count": 119,
      "outputs": [
        {
          "output_type": "execute_result",
          "data": {
            "text/plain": [
              "<matplotlib.axes._subplots.AxesSubplot at 0x7f36f5da0450>"
            ]
          },
          "metadata": {
            "tags": []
          },
          "execution_count": 119
        },
        {
          "output_type": "display_data",
          "data": {
            "image/png": "[encoded data removed]",
            "text/plain": [
              "<Figure size 432x288 with 1 Axes>"
            ]
          },
          "metadata": {
            "tags": [],
            "needs_background": "light"
          }
        }
      ]
    },
    {
      "cell_type": "markdown",
      "metadata": {
        "id": "lElTtWSax8XF"
      },
      "source": [
        "Now we plot a graph to analyse the month and year\n",
        "we can observe a cyclic pattern "
      ]
    },
    {
      "cell_type": "code",
      "metadata": {
        "colab": {
          "base_uri": "https://localhost:8080/",
          "height": 296
        },
        "id": "zd_EEGp6teJg",
        "outputId": "6e0b1621-2442-4ae0-f8f2-829ea8556d20"
      },
      "source": [
        "temp=df1.groupby(['year','month'])['sales'].mean()\n",
        "temp.plot()"
      ],
      "execution_count": 120,
      "outputs": [
        {
          "output_type": "execute_result",
          "data": {
            "text/plain": [
              "<matplotlib.axes._subplots.AxesSubplot at 0x7f36f4eb0290>"
            ]
          },
          "metadata": {
            "tags": []
          },
          "execution_count": 120
        },
        {
          "output_type": "display_data",
          "data": {
            "image/png": "[encoded data removed]",
            "text/plain": [
              "<Figure size 432x288 with 1 Axes>"
            ]
          },
          "metadata": {
            "tags": [],
            "needs_background": "light"
          }
        }
      ]
    },
    {
      "cell_type": "markdown",
      "metadata": {
        "id": "VBRLqNxXyZrK"
      },
      "source": [
        "Next Hypothesis is observed"
      ]
    },
    {
      "cell_type": "code",
      "metadata": {
        "colab": {
          "base_uri": "https://localhost:8080/",
          "height": 302
        },
        "id": "WaYyTUDUuRuK",
        "outputId": "5887b8c6-e1c6-4316-f83f-a1b5db8eb02e"
      },
      "source": [
        "df1.groupby('store')['sales'].mean().plot.bar()"
      ],
      "execution_count": 121,
      "outputs": [
        {
          "output_type": "execute_result",
          "data": {
            "text/plain": [
              "<matplotlib.axes._subplots.AxesSubplot at 0x7f36f54aaa90>"
            ]
          },
          "metadata": {
            "tags": []
          },
          "execution_count": 121
        },
        {
          "output_type": "display_data",
          "data": {
            "image/png": "[encoded data removed]",
            "text/plain": [
              "<Figure size 432x288 with 1 Axes>"
            ]
          },
          "metadata": {
            "tags": [],
            "needs_background": "light"
          }
        }
      ]
    },
    {
      "cell_type": "markdown",
      "metadata": {
        "id": "OWw6-XgiyozL"
      },
      "source": [
        "Next Hypothesis is verified"
      ]
    },
    {
      "cell_type": "code",
      "metadata": {
        "colab": {
          "base_uri": "https://localhost:8080/",
          "height": 517
        },
        "id": "I9rvg51cv8IB",
        "outputId": "f22bb801-5764-48b6-a53e-2c58a7719c50"
      },
      "source": [
        "df1.groupby('item')['sales'].mean().plot.bar(figsize=(8,8))"
      ],
      "execution_count": 122,
      "outputs": [
        {
          "output_type": "execute_result",
          "data": {
            "text/plain": [
              "<matplotlib.axes._subplots.AxesSubplot at 0x7f36f4db8d10>"
            ]
          },
          "metadata": {
            "tags": []
          },
          "execution_count": 122
        },
        {
          "output_type": "display_data",
          "data": {
            "image/png": "[encoded data removed]",
            "text/plain": [
              "<Figure size 576x576 with 1 Axes>"
            ]
          },
          "metadata": {
            "tags": [],
            "needs_background": "light"
          }
        }
      ]
    },
    {
      "cell_type": "code",
      "metadata": {
        "id": "wtBmEBRY59Ve"
      },
      "source": [
        "df1['day of week'] = df1['date'].dt.dayofweek\n",
        "temp=df1['date']\n",
        "def applyer(row):\n",
        "  if row.dayofweek == 5 or row.dayofweek == 6 :\n",
        "    return 1\n",
        "  else:\n",
        "    return 0\n",
        "temp2=df1['date'].apply(applyer)  \n",
        "df1['weekend']=temp2    "
      ],
      "execution_count": 123,
      "outputs": []
    },
    {
      "cell_type": "code",
      "metadata": {
        "colab": {
          "base_uri": "https://localhost:8080/",
          "height": 510
        },
        "id": "bT6xBDwd753Y",
        "outputId": "5c3ed47b-be92-4b06-b9ff-76cef74ba0b7"
      },
      "source": [
        "df1.groupby('weekend')['sales'].mean().plot.bar(figsize=(8,8))"
      ],
      "execution_count": 127,
      "outputs": [
        {
          "output_type": "execute_result",
          "data": {
            "text/plain": [
              "<matplotlib.axes._subplots.AxesSubplot at 0x7f36f4a219d0>"
            ]
          },
          "metadata": {
            "tags": []
          },
          "execution_count": 127
        },
        {
          "output_type": "display_data",
          "data": {
            "image/png": "[encoded data removed]",
            "text/plain": [
              "<Figure size 576x576 with 1 Axes>"
            ]
          },
          "metadata": {
            "tags": [],
            "needs_background": "light"
          }
        }
      ]
    },
    {
      "cell_type": "code",
      "metadata": {
        "colab": {
          "base_uri": "https://localhost:8080/",
          "height": 510
        },
        "id": "xNajr-C_7WdU",
        "outputId": "d903cf86-c7a6-494f-95f4-b92120069327"
      },
      "source": [
        "df1.groupby('day of week')['sales'].mean().plot.bar(figsize=(8,8))"
      ],
      "execution_count": 125,
      "outputs": [
        {
          "output_type": "execute_result",
          "data": {
            "text/plain": [
              "<matplotlib.axes._subplots.AxesSubplot at 0x7f36f4ab6310>"
            ]
          },
          "metadata": {
            "tags": []
          },
          "execution_count": 125
        },
        {
          "output_type": "display_data",
          "data": {
            "image/png": "[encoded data removed]",
            "text/plain": [
              "<Figure size 576x576 with 1 Axes>"
            ]
          },
          "metadata": {
            "tags": [],
            "needs_background": "light"
          }
        }
      ]
    },
    {
      "cell_type": "code",
      "metadata": {
        "colab": {
          "base_uri": "https://localhost:8080/",
          "height": 530
        },
        "id": "_nHrjx0FytC4",
        "outputId": "67545716-b98d-4222-9ef3-a9630a2c9da1"
      },
      "source": [
        "df1.Timestamp=pd.to_datetime(df1.date,format='%Y-%m-%d %H:%M')\n",
        "df1.index=df1.Timestamp\n",
        "daily=df1.resample('d').mean()\n",
        "monthly=df1.resample('m').mean()\n",
        "yearly=df1.resample('Y').mean()\n",
        "Weekly=df1.resample('W').mean()\n",
        "fig,ax=plt.subplots(4,1)\n",
        "daily.sales.plot(figsize=(15,8),title='daily',ax=ax[0])\n",
        "monthly.sales.plot(figsize=(15,8),title='monthly',ax=ax[1])\n",
        "yearly.sales.plot(figsize=(15,8),title='yearly',ax=ax[2])\n",
        "Weekly.sales.plot(figsize=(15,8),title='weekly',ax=ax[3])\n",
        "\n"
      ],
      "execution_count": 126,
      "outputs": [
        {
          "output_type": "execute_result",
          "data": {
            "text/plain": [
              "<matplotlib.axes._subplots.AxesSubplot at 0x7f36f49475d0>"
            ]
          },
          "metadata": {
            "tags": []
          },
          "execution_count": 126
        },
        {
          "output_type": "display_data",
          "data": {
            "image/png": "[encoded data removed]",
            "text/plain": [
              "<Figure size 1080x576 with 4 Axes>"
            ]
          },
          "metadata": {
            "tags": [],
            "needs_background": "light"
          }
        }
      ]
    }
  ]
}